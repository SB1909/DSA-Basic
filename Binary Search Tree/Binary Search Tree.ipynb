{
 "cells": [
  {
   "cell_type": "markdown",
   "id": "52958366",
   "metadata": {},
   "source": [
    "# Binary Search Tree, Traversal and Balancing in Python"
   ]
  },
  {
   "cell_type": "markdown",
   "id": "9b7859d5",
   "metadata": {},
   "source": [
    "## Problem Satement:\n",
    "\n",
    "\n",
    "In this notebook, we'll focus on solving the following problem:\n",
    "\n",
    "> As a senior backend engineer, you are tasked with developing a fast in-memory data structure to manage profile information (username, name and email) for 100 million users. It should allow the following operations to be performed efficiently:\n",
    "> \n",
    "> 1. **Insert** the profile information for a new user.\n",
    "> 2. **Find** the profile information of a user, given their username\n",
    "> 3. **Update** the profile information of a user, given their usrname\n",
    "> 5. **List** all the users of the platform, sorted by username\n",
    ">\n",
    "> You can assume that usernames are unique. "
   ]
  },
  {
   "cell_type": "markdown",
   "id": "b1768ae1",
   "metadata": {},
   "source": [
    "## The Method\n",
    "\n",
    "\n",
    "Here's a systematic strategy we'll apply for solving problems:\n",
    "\n",
    "1. State the problem clearly. Identify the input & output formats.\n",
    "2. Come up with some example inputs & outputs. Try to cover all edge cases.\n",
    "3. Come up with a correct solution for the problem. State it in plain English.\n",
    "4. Implement the solution and test it using example inputs. Fix bugs, if any.\n",
    "5. Analyze the algorithm's complexity and identify inefficiencies, if any.\n",
    "6. Apply the right technique to overcome the inefficiency. Repeat steps 3 to 6.\n",
    "\n"
   ]
  },
  {
   "cell_type": "markdown",
   "id": "6bbfe83a",
   "metadata": {},
   "source": [
    "## Solution\n",
    "\n",
    "## 1. State the problem clearly. Identify the input & output formats.\n",
    "\n",
    "#### Problem\n",
    "\n",
    "> We need to create a data structure which can store 100 million records and perform insertion, search, update and list operations efficiently.\n",
    "\n",
    "#### Input\n",
    "\n",
    "The key inputs to our data structure are user profiles, which contain the username, name and email of a user. \n",
    "\n",
    "A Python `_class_` would be a great way to represent the information for a user. A class is a blueprint for creating _objects_. Everything in Python is an _object_ belonging to some _class_."
   ]
  },
  {
   "cell_type": "code",
   "execution_count": 1,
   "id": "afc7c525",
   "metadata": {},
   "outputs": [],
   "source": [
    "class User:\n",
    "    pass"
   ]
  },
  {
   "cell_type": "markdown",
   "id": "enclosed-surface",
   "metadata": {
    "id": "enclosed-surface"
   },
   "source": [
    "#### Output\n",
    "\n",
    "We can also express our desired data structure as a Python class `UserDatabase` with four methods: `insert`, `find`, `update` and `list_all`. "
   ]
  },
  {
   "cell_type": "code",
   "execution_count": 2,
   "id": "d61976a3",
   "metadata": {},
   "outputs": [],
   "source": [
    "class UserDatabase:\n",
    "    def insert(self, user):\n",
    "        pass\n",
    "    \n",
    "    def find(self, username):\n",
    "        pass\n",
    "    \n",
    "    def update(self, user):\n",
    "        pass\n",
    "        \n",
    "    def list_all(self):\n",
    "        pass"
   ]
  },
  {
   "cell_type": "markdown",
   "id": "laden-tiger",
   "metadata": {
    "id": "laden-tiger"
   },
   "source": [
    "## 2. Come up with some example inputs & outputs. \n"
   ]
  },
  {
   "cell_type": "code",
   "execution_count": 3,
   "id": "e462217b",
   "metadata": {},
   "outputs": [],
   "source": [
    "#to create user object\n",
    "\n",
    "class User:\n",
    "    def __init__(self, username, name, email):   # initializing with creating user object\n",
    "        self.username = username\n",
    "        self.name =  name\n",
    "        self.email = email\n",
    "    \n",
    "    def __repr__(self):                          # returning object in string format\n",
    "        return \"User(username={}, name={}, email={})\".format(self.username,self.name,self.email)\n",
    "    \n",
    "    def __str__(self):          # used to return string representation when print() or str() function is invoked on object\n",
    "        return self.__repr__()"
   ]
  },
  {
   "cell_type": "markdown",
   "id": "99b99593",
   "metadata": {},
   "source": [
    "### Inputs:"
   ]
  },
  {
   "cell_type": "markdown",
   "id": "9a858f80",
   "metadata": {},
   "source": [
    "Let's create some sample user profiles that we can use to test our functions once we implement them."
   ]
  },
  {
   "cell_type": "code",
   "execution_count": 4,
   "id": "0f7741b9",
   "metadata": {},
   "outputs": [],
   "source": [
    "aakash = User('aakash', 'Aakash Rai', 'aakash@example.com')\n",
    "biraj = User('biraj', 'Biraj Das', 'biraj@example.com')\n",
    "hemanth = User('hemanth', 'Hemanth Jain', 'hemanth@example.com')\n",
    "jadhesh = User('jadhesh', 'Jadhesh Verma', 'jadhesh@example.com')\n",
    "siddhant = User('siddhant', 'Siddhant Sinha', 'siddhant@example.com')\n",
    "sonaksh = User('sonaksh', 'Sonaksh Kumar', 'sonaksh@example.com')\n",
    "vishal = User('vishal', 'Vishal Goel', 'vishal@example.com')"
   ]
  },
  {
   "cell_type": "code",
   "execution_count": 5,
   "id": "0a4eb896",
   "metadata": {},
   "outputs": [
    {
     "data": {
      "text/plain": [
       "[User(username=aakash, name=Aakash Rai, email=aakash@example.com),\n",
       " User(username=biraj, name=Biraj Das, email=biraj@example.com),\n",
       " User(username=hemanth, name=Hemanth Jain, email=hemanth@example.com),\n",
       " User(username=jadhesh, name=Jadhesh Verma, email=jadhesh@example.com),\n",
       " User(username=siddhant, name=Siddhant Sinha, email=siddhant@example.com),\n",
       " User(username=sonaksh, name=Sonaksh Kumar, email=sonaksh@example.com),\n",
       " User(username=vishal, name=Vishal Goel, email=vishal@example.com)]"
      ]
     },
     "execution_count": 5,
     "metadata": {},
     "output_type": "execute_result"
    }
   ],
   "source": [
    "users = [aakash, biraj, hemanth, jadhesh, siddhant, sonaksh, vishal]\n",
    "users"
   ]
  },
  {
   "cell_type": "markdown",
   "id": "broken-methodology",
   "metadata": {
    "id": "broken-methodology"
   },
   "source": [
    "### Outputs:\n",
    "Since we haven't implemented our data structure yet, it's not possible to list sample outputs. However here are different scenarios to test future implementations\n",
    "\n",
    "    1. Inserting into an empty database of users\n",
    "    2. Trying to insert a user with a username that already exists\n",
    "    3. Inserting a user with a username that does not exist\n",
    "    4. Find specific user details by given username\n",
    "    5. Updating email of user\n"
   ]
  },
  {
   "cell_type": "markdown",
   "id": "nuclear-infrared",
   "metadata": {
    "id": "nuclear-infrared"
   },
   "source": [
    "## 3. Come up with a correct solution. State it in plain English.\n",
    "\n",
    "Here's a simple and easy solution to the problem: we store the `User` objects in a list sorted by usernames. \n",
    "\n",
    "The various functions can be implemented as follows:\n",
    "\n",
    "1. **Insert**: Loop through the list and add the new user at a position that keeps the list sorted.\n",
    "2. **Find**: Loop through the list and find the user object with the username matching the query.\n",
    "3. **Update**: Loop through the list, find the user object matching the query and update the details\n",
    "4. **List**: Return the list of user objects.\n",
    "\n",
    "We can use the fact usernames, which are are strings can be compared using the `<`, `>` and `==` operators in Python."
   ]
  },
  {
   "cell_type": "markdown",
   "id": "790c0037",
   "metadata": {},
   "source": [
    "## 4. Implement the solution and test it using example inputs.\n"
   ]
  },
  {
   "cell_type": "code",
   "execution_count": 6,
   "id": "f830bb44",
   "metadata": {},
   "outputs": [],
   "source": [
    "# most of the time we will use use for and while loops to go through database\n",
    "\n",
    "class UserDatabase:                    # initializing with creating database with given name\n",
    "    def __init__(self):\n",
    "        self.users = []   \n",
    "        \n",
    "    def insert(self, user):            # insert object to database\n",
    "        i = 0\n",
    "        while i < len(self.users):     # finding right position to insert user\n",
    "            if self.users[i].username > user.username:\n",
    "                break\n",
    "            i += 1\n",
    "        self.users.insert(i, user)\n",
    "        print(\"User Inserted!\")\n",
    "    \n",
    "    def find(self, username):          # finding given user object in database\n",
    "        for user in self.users:\n",
    "            if user.username == username:\n",
    "                print(\"User found!\")\n",
    "                return user\n",
    "            \n",
    "    def update(self, user):            # updating details of user in database\n",
    "        target = self.find(user.username)\n",
    "        target.name, target.email = user.name, user.email\n",
    "        print(\"User Updated!\")\n",
    "    \n",
    "    def list_all(self):                # returning all users in databse\n",
    "        return self.users\n",
    "        "
   ]
  },
  {
   "cell_type": "markdown",
   "id": "b3778563",
   "metadata": {},
   "source": [
    "Let's insert some entires into the object."
   ]
  },
  {
   "cell_type": "code",
   "execution_count": 7,
   "id": "0437964a",
   "metadata": {},
   "outputs": [
    {
     "name": "stdout",
     "output_type": "stream",
     "text": [
      "User Inserted!\n",
      "User Inserted!\n",
      "User Inserted!\n"
     ]
    }
   ],
   "source": [
    "#creating userdatabase as database\n",
    "database = UserDatabase()    \n",
    "\n",
    "# inserting users in database:\n",
    "database.insert(hemanth)      \n",
    "database.insert(aakash)\n",
    "database.insert(siddhant)"
   ]
  },
  {
   "cell_type": "code",
   "execution_count": 8,
   "id": "b1dadc99",
   "metadata": {},
   "outputs": [
    {
     "name": "stdout",
     "output_type": "stream",
     "text": [
      "User found!\n"
     ]
    },
    {
     "data": {
      "text/plain": [
       "User(username=siddhant, name=Siddhant Sinha, email=siddhant@example.com)"
      ]
     },
     "execution_count": 8,
     "metadata": {},
     "output_type": "execute_result"
    }
   ],
   "source": [
    "#finding user in database\n",
    "\n",
    "user = database.find('siddhant')   \n",
    "user"
   ]
  },
  {
   "cell_type": "code",
   "execution_count": 9,
   "id": "9de6fa5f",
   "metadata": {},
   "outputs": [
    {
     "name": "stdout",
     "output_type": "stream",
     "text": [
      "User found!\n",
      "User Updated!\n"
     ]
    }
   ],
   "source": [
    "#updating user in database\n",
    "\n",
    "siddhant= User(username='siddhant', name='Siddhant U', email='siddhantu@example.com')\n",
    "database.update(siddhant)"
   ]
  },
  {
   "cell_type": "code",
   "execution_count": 10,
   "id": "efdb5621",
   "metadata": {},
   "outputs": [
    {
     "data": {
      "text/plain": [
       "[User(username=aakash, name=Aakash Rai, email=aakash@example.com),\n",
       " User(username=hemanth, name=Hemanth Jain, email=hemanth@example.com),\n",
       " User(username=siddhant, name=Siddhant U, email=siddhantu@example.com)]"
      ]
     },
     "execution_count": 10,
     "metadata": {},
     "output_type": "execute_result"
    }
   ],
   "source": [
    "#listing all users in databse\n",
    "\n",
    "database.list_all()"
   ]
  },
  {
   "cell_type": "markdown",
   "id": "dangerous-venezuela",
   "metadata": {
    "id": "dangerous-venezuela"
   },
   "source": [
    "## 5. Analyze the algorithm's complexity and identify inefficiencies\n",
    "\n",
    "The operations `insert`, `find`, `update` involves iterating over a list of users, in the worst case, they may take up to `N` iterations to return a result, where `N` is the total number of users. `list_all` however, simply returns the existing internal list of users. \n",
    "\n",
    "Thus, the time complexities of the various operations are:\n",
    "\n",
    "1. Insert: **O(N)**\n",
    "2. Find: **O(N)**\n",
    "3. Update: **O(N)**\n",
    "4. List: **O(1)**\n",
    "\n",
    "Space complexity of each operation is **O(1)**.\n",
    "\n",
    "Is this good enough? To get a sense how long each function might take if there are 100 million users on the platform, we can simply run an `for` or `while` loop on 10 million numbers."
   ]
  },
  {
   "cell_type": "code",
   "execution_count": 11,
   "id": "be1a5abb",
   "metadata": {},
   "outputs": [
    {
     "name": "stdout",
     "output_type": "stream",
     "text": [
      "CPU times: total: 46.4 s\n",
      "Wall time: 46.5 s\n"
     ]
    }
   ],
   "source": [
    "%%time\n",
    "for i in range(100000000):\n",
    "    j = i*i"
   ]
  },
  {
   "cell_type": "markdown",
   "id": "endangered-centre",
   "metadata": {
    "id": "endangered-centre"
   },
   "source": [
    "It takes almost 18 seconds to execute all the iterations in the above cell. \n",
    "\n",
    "* A 46-second delay for fetching user profiles will lead to a suboptimal users experience and may cause many users to stop using the platform altogether. \n",
    "* The 46-second processing time for each profile request will also significantly limit the number of users that can access the platform at a time or increase the cloud infrastructure costs for the company by millions of dollars.\n",
    "\n",
    "As a senior backend engineer, we must come up with a more efficient data structure! It's apparent that a sorted list of users might not be the best data structure to organize profile information for millions of users. "
   ]
  },
  {
   "cell_type": "markdown",
   "id": "bright-nothing",
   "metadata": {
    "id": "bright-nothing"
   },
   "source": [
    "## 6. Apply the right technique to overcome the inefficiency\n",
    "\n",
    "We can limit the number of iterations required for common operations like find, insert and update by organizing our data in the following structure, called a **binary tree**:\n",
    "\n",
    "<img src=\"https://i.imgur.com/lVqP63n.png\" width=\"520\">\n",
    "\n",
    "\n",
    "\n",
    "It's called a tree because it vaguely like an inverted tree trunk with branches. \n",
    "* The word \"binary\" indicates that each \"node\" in the tree can have at most 2 children (left or right). \n",
    "* Nodes can have 0, 1 or 2 children. Nodes that do not have any children are sometimes also called \"leaves\".\n",
    "* The single node at the top is called the \"root\" node, and it typically where operations like search, insertion etc. begin.\n",
    "\n",
    "<img src=\"https://i.imgur.com/TZHMKJr.png\" width=\"400\">\n",
    "\n",
    "\n",
    "## Balanced Binary Search Trees\n",
    "\n",
    "<img src=\"https://i.imgur.com/Mqef5b3.png\" width=\"520\">\n",
    "\n",
    "For our use case, we require the binary tree to have some additional properties:\n",
    "\n",
    "1. **Keys and Values**: Each node of the tree stores a key (a username) and a value (a `User` object). Only keys are shown in the picture above for brevity. A binary tree where nodes have both a key and a value is often referred to as a **map** or **treemap** (because it maps keys to values).\n",
    "2. **Binary Search Tree**: The *left subtree* of any node only contains nodes with keys that are lexicographically smaller than the node's key, and the *right subtree* of any node only contains nodes with keys that lexicographically larger than the node's key. A tree should satisfies these properties, and it's easy to locate a specific key by traversing a single path down from the root note.\n",
    "3. **Balanced Tree**: The tree is **balanced** i.e. it does not skew too heavily to one side or the other. The left and right subtrees of any node shouldn't differ in height/depth by more than 1 level.\n"
   ]
  },
  {
   "cell_type": "markdown",
   "id": "19de9f7d",
   "metadata": {},
   "source": [
    "## 7. Come up with a correct solution. State it in plain English.\n",
    "\n",
    "Here's a easy solution to the problem: \n",
    "\n",
    "we store the `User` objects as node of tree sorted by usernames. \n",
    "\n",
    "\n",
    "\n",
    "The various functions can be implemented as follows:\n",
    "\n",
    "We will use recursion methond:\n",
    "\n",
    "1. **Insert**: Using recursion function find position that keeps list sorted to insert new user either on left or right side ot tree.\n",
    "2. **Find**: Find the user object with the username matching the query either on left or right of tree using recursion.\n",
    "3. **Update**: Use find function to get user matching its key and then update its details.\n",
    "4. **List**: Return the list of user objects.\n",
    "\n",
    "We can use the fact usernames, which are are strings can be compared using the `<`, `>` and `==` operators in Python."
   ]
  },
  {
   "cell_type": "code",
   "execution_count": 12,
   "id": "2fc612e8",
   "metadata": {},
   "outputs": [],
   "source": [
    "#creating BST node for tree:\n",
    "class BSTNode():\n",
    "    def __init__(self, key, value=None):\n",
    "        self.key = key                       # assigning key and value to BST node\n",
    "        self.value = value\n",
    "        self.left = None\n",
    "        self.right = None\n",
    "        self.parent = None"
   ]
  },
  {
   "cell_type": "code",
   "execution_count": 13,
   "id": "5f3f3649",
   "metadata": {},
   "outputs": [],
   "source": [
    "# here we will use recursion method to get output:\n",
    "\n",
    "# inserting user at node:\n",
    "def insert(node, key, value):\n",
    "    if node is None:\n",
    "        node = BSTNode(key, value)  \n",
    "\n",
    "    # looking for node position to insert node comparing to its root node\n",
    "    elif key < node.key:                \n",
    "        node.left = insert(node.left, key, value)\n",
    "        node.left.parent = node\n",
    "\n",
    "    elif key > node.key:\n",
    "        node.right = insert(node.right, key, value)\n",
    "        node.right.parent = node\n",
    "        \n",
    "    return node\n",
    "\n",
    "\n",
    "# function for finding user:\n",
    "def find(node, key):\n",
    "    if node is None:\n",
    "        return None\n",
    "\n",
    "    if key == node.key:\n",
    "        return node\n",
    "\n",
    "    elif key < node.key:         # using recursion function to find key node\n",
    "        return find(node.left, key)\n",
    "\n",
    "    elif key > node.key:\n",
    "        return find(node.right, key)\n",
    "\n",
    "# function for updating user:\n",
    "def update(node, key, value):\n",
    "    target = find(node,key)\n",
    "    if target is not None:\n",
    "        target.value = value\n",
    "        \n",
    "# function to return all keys and values\n",
    "def list_all(node):\n",
    "    if node is None:    # traverse in order\n",
    "        return []\n",
    "    return list_all(node.left) + [(node.key, node.value)] + list_all(node.right)\n",
    "\n",
    "# function to count all nodes im tree\n",
    "def tree_size(node):\n",
    "    if node is None:\n",
    "        return 0\n",
    "    return 1 + tree_size(node.left) + tree_size(node.right)\n",
    "\n",
    "\n",
    "# funtion to make data in balance tree\n",
    "def make_balanced_bst(data, lo=0, hi=None, parent=None):\n",
    "    if hi is None:\n",
    "        hi = len(data)-1\n",
    "\n",
    "    if lo > hi:\n",
    "        return None\n",
    "\n",
    "    mid = (lo + hi) // 2\n",
    "    key, value = data[mid]  #checking key and value of middle node\n",
    "\n",
    "    root = BSTNode(key, value)   #Assigning key to root node\n",
    "    root.parent = parent\n",
    "    root.left = make_balanced_bst(data, lo, mid-1, root)\n",
    "    root.right = make_balanced_bst(data, mid+1, hi, root)\n",
    "\n",
    "    return root\n",
    "\n",
    "# balancing tree\n",
    "def balance_bst(node):\n",
    "    return make_balanced_bst(list_all(node))\n",
    "\n",
    "# function to display tree ( it will display tree just by starting root node from left)\n",
    "def display_keys(self, space='\\t', level=0):\n",
    "    if self is None:\n",
    "        print(space*level + '∅')\n",
    "        return   \n",
    "\n",
    "    # If the node is a leaf (leaf means end node)\n",
    "    if self.left is None and self.right is None:\n",
    "        print(space*level + str(self.key))\n",
    "        return\n",
    "\n",
    "    # If the node has children\n",
    "    display_keys(self.right, space, level+1)\n",
    "    print(space*level + str(self.key))\n",
    "    display_keys(self.left,space, level+1) "
   ]
  },
  {
   "cell_type": "code",
   "execution_count": 14,
   "id": "3a55ddee",
   "metadata": {},
   "outputs": [],
   "source": [
    "class TreeMap():\n",
    "    #creating tree\n",
    "    def __init__(self):\n",
    "        self.root = None       \n",
    "    \n",
    "    # we will in built function like __getitem__, __setitem__, __iter__ to make data tree handelling easy\n",
    "    \n",
    "    # using setitems to make it easier to assign input object to specific function to perform specific activity\n",
    "    def __setitem__(self, key, value):    \n",
    "        node = find(self.root, key)                    # checking if given key is present or not\n",
    "        if not node:\n",
    "            self.root = insert(self.root, key, value)  # if not node will be created for that key\n",
    "            self.root = balance_bst(self.root)         # and then tree will get balance again\n",
    "        else:\n",
    "            update(self.root, key, value)              # if present values will get updated\n",
    "            \n",
    "    # funtion to get values for given key   \n",
    "    def __getitem__(self, key):\n",
    "        node = find(self.root, key)\n",
    "        return node.value if node else None\n",
    "    \n",
    "    # funtion to make tree iterable using for loop or any other method\n",
    "    def __iter__(self):\n",
    "        return (x for x in list_all(self.root))\n",
    "    \n",
    "    # function to find len of tree and by using  __len__ function we can directly give command like len(tree)\n",
    "    def __len__(self):\n",
    "        return tree_size(self.root)\n",
    "    \n",
    "    def display(self):\n",
    "        return display_keys(self.root)"
   ]
  },
  {
   "cell_type": "markdown",
   "id": "90994c94",
   "metadata": {},
   "source": [
    "Let's try using the `TreeMap` class below."
   ]
  },
  {
   "cell_type": "code",
   "execution_count": 15,
   "id": "99fde210",
   "metadata": {},
   "outputs": [],
   "source": [
    "#creating user node tree as treemap\n",
    "treemap = TreeMap()  \n",
    "\n",
    "# inserting users in treemap:\n",
    "treemap['aakash'] = aakash\n",
    "treemap['jadhesh'] = jadhesh\n",
    "treemap['sonaksh'] = sonaksh\n",
    "treemap['biraj'] = biraj\n",
    "treemap['hemanth'] = hemanth\n",
    "treemap['siddhant'] = siddhant\n",
    "treemap['vishal'] = vishal"
   ]
  },
  {
   "cell_type": "code",
   "execution_count": 16,
   "id": "dd0aa304",
   "metadata": {},
   "outputs": [
    {
     "name": "stdout",
     "output_type": "stream",
     "text": [
      "\t\tvishal\n",
      "\tsonaksh\n",
      "\t\tsiddhant\n",
      "jadhesh\n",
      "\t\themanth\n",
      "\tbiraj\n",
      "\t\taakash\n"
     ]
    }
   ],
   "source": [
    "# diplaying tree\n",
    "treemap.display()"
   ]
  },
  {
   "cell_type": "code",
   "execution_count": 17,
   "id": "e90bfd5b",
   "metadata": {},
   "outputs": [
    {
     "data": {
      "text/plain": [
       "User(username=jadhesh, name=Jadhesh Verma, email=jadhesh@example.com)"
      ]
     },
     "execution_count": 17,
     "metadata": {},
     "output_type": "execute_result"
    }
   ],
   "source": [
    "# accessing key and its values\n",
    "treemap['jadhesh']"
   ]
  },
  {
   "cell_type": "code",
   "execution_count": 18,
   "id": "5b399ddc",
   "metadata": {},
   "outputs": [
    {
     "data": {
      "text/plain": [
       "7"
      ]
     },
     "execution_count": 18,
     "metadata": {},
     "output_type": "execute_result"
    }
   ],
   "source": [
    "# calculating lenght of tree\n",
    "len(treemap)"
   ]
  },
  {
   "cell_type": "code",
   "execution_count": 19,
   "id": "c20fb5fd",
   "metadata": {},
   "outputs": [
    {
     "name": "stdout",
     "output_type": "stream",
     "text": [
      "aakash User(username=aakash, name=Aakash Rai, email=aakash@example.com)\n",
      "biraj User(username=biraj, name=Biraj Das, email=biraj@example.com)\n",
      "hemanth User(username=hemanth, name=Hemanth Jain, email=hemanth@example.com)\n",
      "jadhesh User(username=jadhesh, name=Jadhesh Verma, email=jadhesh@example.com)\n",
      "siddhant User(username=siddhant, name=Siddhant U, email=siddhantu@example.com)\n",
      "sonaksh User(username=sonaksh, name=Sonaksh Kumar, email=sonaksh@example.com)\n",
      "vishal User(username=vishal, name=Vishal Goel, email=vishal@example.com)\n"
     ]
    }
   ],
   "source": [
    "#use of for loop directly on tree to access all data in tree\n",
    "\n",
    "for key, value in treemap:\n",
    "    print(key, value)"
   ]
  },
  {
   "cell_type": "code",
   "execution_count": 20,
   "id": "28d9330c",
   "metadata": {},
   "outputs": [
    {
     "data": {
      "text/plain": [
       "[('aakash', User(username=aakash, name=Aakash Rai, email=aakash@example.com)),\n",
       " ('biraj', User(username=biraj, name=Biraj Das, email=biraj@example.com)),\n",
       " ('hemanth',\n",
       "  User(username=hemanth, name=Hemanth Jain, email=hemanth@example.com)),\n",
       " ('jadhesh',\n",
       "  User(username=jadhesh, name=Jadhesh Verma, email=jadhesh@example.com)),\n",
       " ('siddhant',\n",
       "  User(username=siddhant, name=Siddhant U, email=siddhantu@example.com)),\n",
       " ('sonaksh',\n",
       "  User(username=sonaksh, name=Sonaksh Kumar, email=sonaksh@example.com)),\n",
       " ('vishal', User(username=vishal, name=Vishal Goel, email=vishal@example.com))]"
      ]
     },
     "execution_count": 20,
     "metadata": {},
     "output_type": "execute_result"
    }
   ],
   "source": [
    "# in the form of list\n",
    "list(treemap)"
   ]
  },
  {
   "cell_type": "code",
   "execution_count": 21,
   "id": "6639f212",
   "metadata": {},
   "outputs": [
    {
     "data": {
      "text/plain": [
       "User(username=aakash, name=Aakash N S, email=aakashns@example.com)"
      ]
     },
     "execution_count": 21,
     "metadata": {},
     "output_type": "execute_result"
    }
   ],
   "source": [
    "#updating values in tree\n",
    "treemap['aakash'] = User(username='aakash', name='Aakash N S', email='aakashns@example.com')\n",
    "treemap['aakash']"
   ]
  },
  {
   "cell_type": "markdown",
   "id": "useful-blade",
   "metadata": {
    "id": "useful-blade"
   },
   "source": [
    "## 8. Analyze the algorithm's complexity and identify inefficiencies\n",
    "\n",
    "The operations `find`, `update` involves iterating over a height of tree, in the worst case, they may take up to `k` iterations to return a result, where `k` is the height of Binary Tree. \n",
    "\n",
    "`insert` function also take upto `k` iteration but here we are balancing tree after every insertion so balancing will take upto `N` iteration to return result.\n",
    "\n",
    "`list_all` however, simply returns the existing internal list of users by iterating all over tree. It may take up to `N` iterations to return a result, where `N` is the total number of users.\n",
    "\n",
    "\n",
    "### Height of a Binary Tree\n",
    "\n",
    "<img src=\"https://i.imgur.com/Mqef5b3.png\" width=\"520\">\n",
    "\n",
    "The number of levels in a tree is called its height. As we can see that from the picture above, each level of a tree contains twice as many nodes as the previous level. \n",
    "\n",
    "For a tree of height `k`, here's a list of the number of nodes at each level:\n",
    "\n",
    "Level 0: `1`\n",
    "\n",
    "Level 1: `2`\n",
    "\n",
    "Level 2: `4` i.e. `2^2`\n",
    "\n",
    "Level 3: `8` i.e. `2^3`\n",
    "\n",
    "...\n",
    "\n",
    "Level k-1: `2^(k-1)`\n",
    "\n",
    "If the total number of nodes in the tree is `N`, then it follows that\n",
    "\n",
    "```\n",
    "N = 1 + 2^1 + 2^2 + 2^3 + ... + 2^(k-1)\n",
    "```\n",
    "\n",
    "\n",
    "We can simplify this equation by adding `1` on each side:\n",
    "\n",
    "```\n",
    "N + 1 = 1 + 1 + 2^1 + 2^2 + 2^3 + ... + 2^(k-1) \n",
    "\n",
    "N + 1 = 2^1 + 2^1 + 2^2+ 2^3 + ... + 2^(k-1) \n",
    "\n",
    "N + 1 = = 2^2 + 2^2 + 2^3 + ... + 2^(k-1)\n",
    "\n",
    "N + 1 = = 2^3 + 2^3 + ... + 2^(k-1)\n",
    "\n",
    "...\n",
    "\n",
    "N + 1 = 2^(k-1) + 2^(k-1)\n",
    "\n",
    "N + 1 = 2^k\n",
    "\n",
    "k = log(N + 1) <= log(N) + 1 \n",
    "\n",
    "```\n",
    "\n",
    "Thus, to store `N` records we require a balanced binary search tree (BST) of height no larger than `log(N) + 1`. This is a very useful property, in combination with the fact that nodes are arranged in a way that makes it easy to find a specific key by following a single path down from the root. \n",
    "\n",
    "`k <= log(N)+ 1`\n",
    "\n",
    "Thus, the worst case time complexities of the various operations are:\n",
    "\n",
    "1. Insert: **O(log N) + O(N) = O(N)**\n",
    "2. Find: **O(log N)**\n",
    "3. Update: **O(log N)**\n",
    "4. List: **O(N)**\n",
    "\n",
    "What's the real improvement between O(N) and O(log N)? "
   ]
  },
  {
   "cell_type": "code",
   "execution_count": 22,
   "id": "4eb95c75",
   "metadata": {},
   "outputs": [
    {
     "data": {
      "text/plain": [
       "26.5754247590989"
      ]
     },
     "execution_count": 22,
     "metadata": {},
     "output_type": "execute_result"
    }
   ],
   "source": [
    "import math\n",
    "\n",
    "math.log(100000000, 2)"
   ]
  },
  {
   "cell_type": "markdown",
   "id": "fatal-belarus",
   "metadata": {
    "id": "fatal-belarus"
   },
   "source": [
    "The logarithm (base 2) of 100 million is around 26. Thus, it takes only 26 operations to find or update a node within a BST (as opposed to 100 million)."
   ]
  },
  {
   "cell_type": "code",
   "execution_count": 23,
   "id": "c364048c",
   "metadata": {},
   "outputs": [
    {
     "name": "stdout",
     "output_type": "stream",
     "text": [
      "CPU times: total: 0 ns\n",
      "Wall time: 0 ns\n"
     ]
    }
   ],
   "source": [
    "%%time\n",
    "for i in range(26):\n",
    "    j = i*i"
   ]
  },
  {
   "cell_type": "markdown",
   "id": "complex-employment",
   "metadata": {
    "id": "complex-employment"
   },
   "source": [
    "Thus, find and update from a balanced binary search tree is `300,000 times faster` than our original solution. To speed up insertions, we may choose to perform the balancing periodically (e.g. once every 1000 insertions). This way, most insertions will be O (log N), but every 1000th insertion will take a few seconds. Another options is to rebalance the tree periodically at the end of every hour."
   ]
  }
 ],
 "metadata": {
  "kernelspec": {
   "display_name": "Python 3 (ipykernel)",
   "language": "python",
   "name": "python3"
  },
  "language_info": {
   "codemirror_mode": {
    "name": "ipython",
    "version": 3
   },
   "file_extension": ".py",
   "mimetype": "text/x-python",
   "name": "python",
   "nbconvert_exporter": "python",
   "pygments_lexer": "ipython3",
   "version": "3.8.10"
  }
 },
 "nbformat": 4,
 "nbformat_minor": 5
}
